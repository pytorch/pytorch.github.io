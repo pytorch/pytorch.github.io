{
 "cells": [
  {
   "cell_type": "markdown",
   "id": "ecf7d604",
   "metadata": {},
   "source": [
    "### This notebook is optionally accelerated with a GPU runtime.\n",
    "### If you would like to use this acceleration, please select the menu option \"Runtime\" -> \"Change runtime type\", select \"Hardware Accelerator\" -> \"GPU\" and click \"SAVE\"\n",
    "\n",
    "----------------------------------------------------------------------\n",
    "\n",
    "# Progressive Growing of GANs (PGAN)\n",
    "\n",
    "*Author: FAIR HDGAN*\n",
    "\n",
    "**High-quality image generation of fashion, celebrity faces**\n",
    "\n",
    "_ | _\n",
    "- | -\n",
    "![alt](https://pytorch.org/assets/images/pgan_mix.jpg) | ![alt](https://pytorch.org/assets/images/pgan_celebaHQ.jpg)"
   ]
  },
  {
   "cell_type": "code",
   "execution_count": null,
   "id": "775ff240",
   "metadata": {},
   "outputs": [],
   "source": [
    "import torch\n",
    "use_gpu = True if torch.cuda.is_available() else False\n",
    "\n",
    "# trained on high-quality celebrity faces \"celebA\" dataset\n",
    "# this model outputs 512 x 512 pixel images\n",
    "model = torch.hub.load('facebookresearch/pytorch_GAN_zoo:hub',\n",
    "                       'PGAN', model_name='celebAHQ-512',\n",
    "                       pretrained=True, useGPU=use_gpu)\n",
    "# this model outputs 256 x 256 pixel images\n",
    "# model = torch.hub.load('facebookresearch/pytorch_GAN_zoo:hub',\n",
    "#                        'PGAN', model_name='celebAHQ-256',\n",
    "#                        pretrained=True, useGPU=use_gpu)"
   ]
  },
  {
   "cell_type": "markdown",
   "id": "6d31f585",
   "metadata": {},
   "source": [
    "The input to the model is a noise vector of shape `(N, 512)` where `N` is the number of images to be generated.\n",
    "It can be constructed using the function `.buildNoiseData`.\n",
    "The model has a `.test` function that takes in the noise vector and generates images."
   ]
  },
  {
   "cell_type": "code",
   "execution_count": null,
   "id": "3d532e15",
   "metadata": {},
   "outputs": [],
   "source": [
    "num_images = 4\n",
    "noise, _ = model.buildNoiseData(num_images)\n",
    "with torch.no_grad():\n",
    "    generated_images = model.test(noise)\n",
    "\n",
    "# let's plot these images using torchvision and matplotlib\n",
    "import matplotlib.pyplot as plt\n",
    "import torchvision\n",
    "grid = torchvision.utils.make_grid(generated_images.clamp(min=-1, max=1), scale_each=True, normalize=True)\n",
    "plt.imshow(grid.permute(1, 2, 0).cpu().numpy())\n",
    "# plt.show()"
   ]
  },
  {
   "cell_type": "markdown",
   "id": "bf472168",
   "metadata": {},
   "source": [
    "You should see an image similar to the one on the left.\n",
    "\n",
    "If you want to train your own Progressive GAN and other GANs from scratch, have a look at [PyTorch GAN Zoo](https://github.com/facebookresearch/pytorch_GAN_zoo).\n",
    "\n",
    "### Model Description\n",
    "\n",
    "In computer vision, generative models are networks trained to create images from a given input. In our case, we consider a specific kind of generative networks: GANs (Generative Adversarial Networks) which learn to map a random vector with a realistic image generation.\n",
    "\n",
    "Progressive Growing of GANs is a method developed by Karras et. al. [1] in 2017 allowing generation of high resolution images. To do so, the generative network is trained slice by slice. At first the model is trained to build very low resolution images, once it converges, new layers are added and the output resolution doubles. The process continues until the desired resolution is reached.\n",
    "\n",
    "### Requirements\n",
    "\n",
    "- Currently only supports Python 3\n",
    "\n",
    "### References\n",
    "\n",
    "[1] Tero Karras et al, \"Progressive Growing of GANs for Improved Quality, Stability, and Variation\" https://arxiv.org/abs/1710.10196"
   ]
  }
 ],
 "metadata": {},
 "nbformat": 4,
 "nbformat_minor": 5
}
