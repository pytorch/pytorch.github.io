{
 "cells": [
  {
   "cell_type": "markdown",
   "id": "9c41e364",
   "metadata": {},
   "source": [
    "### This notebook is optionally accelerated with a GPU runtime.\n",
    "### If you would like to use this acceleration, please select the menu option \"Runtime\" -> \"Change runtime type\", select \"Hardware Accelerator\" -> \"GPU\" and click \"SAVE\"\n",
    "\n",
    "----------------------------------------------------------------------\n",
    "\n",
    "# IBN-Net\n",
    "\n",
    "*Author: Xingang Pan*\n",
    "\n",
    "**Networks with domain/appearance invariance**\n",
    "\n",
    "<img src=\"https://pytorch.org/assets/images/ibnnet.png\" alt=\"alt\" width=\"50%\"/>"
   ]
  },
  {
   "cell_type": "code",
   "execution_count": null,
   "id": "c57c0221",
   "metadata": {},
   "outputs": [],
   "source": [
    "import torch\n",
    "model = torch.hub.load('XingangPan/IBN-Net', 'resnet50_ibn_a', pretrained=True)\n",
    "model.eval()"
   ]
  },
  {
   "cell_type": "markdown",
   "id": "f5c86623",
   "metadata": {},
   "source": [
    "All pre-trained models expect input images normalized in the same way,\n",
    "i.e. mini-batches of 3-channel RGB images of shape `(3 x H x W)`, where `H` and `W` are expected to be at least `224`.\n",
    "The images have to be loaded in to a range of `[0, 1]` and then normalized using `mean = [0.485, 0.456, 0.406]`\n",
    "and `std = [0.229, 0.224, 0.225]`.\n",
    "\n",
    "Here's a sample execution."
   ]
  },
  {
   "cell_type": "code",
   "execution_count": null,
   "id": "2a87a1c1",
   "metadata": {},
   "outputs": [],
   "source": [
    "# Download an example image from the pytorch website\n",
    "import urllib\n",
    "url, filename = (\"https://github.com/pytorch/hub/raw/master/images/dog.jpg\", \"dog.jpg\")\n",
    "try: urllib.URLopener().retrieve(url, filename)\n",
    "except: urllib.request.urlretrieve(url, filename)"
   ]
  },
  {
   "cell_type": "code",
   "execution_count": null,
   "id": "0ee14266",
   "metadata": {},
   "outputs": [],
   "source": [
    "# sample execution (requires torchvision)\n",
    "from PIL import Image\n",
    "from torchvision import transforms\n",
    "input_image = Image.open(filename)\n",
    "preprocess = transforms.Compose([\n",
    "    transforms.Resize(256),\n",
    "    transforms.CenterCrop(224),\n",
    "    transforms.ToTensor(),\n",
    "    transforms.Normalize(mean=[0.485, 0.456, 0.406], std=[0.229, 0.224, 0.225]),\n",
    "])\n",
    "input_tensor = preprocess(input_image)\n",
    "input_batch = input_tensor.unsqueeze(0) # create a mini-batch as expected by the model\n",
    "\n",
    "# move the input and model to GPU for speed if available\n",
    "if torch.cuda.is_available():\n",
    "    input_batch = input_batch.to('cuda')\n",
    "    model.to('cuda')\n",
    "\n",
    "with torch.no_grad():\n",
    "    output = model(input_batch)\n",
    "# Tensor of shape 1000, with confidence scores over ImageNet's 1000 classes\n",
    "print(output[0])\n",
    "# The output has unnormalized scores. To get probabilities, you can run a softmax on it.\n",
    "probabilities = torch.nn.functional.softmax(output[0], dim=0)\n",
    "print(probabilities)"
   ]
  },
  {
   "cell_type": "code",
   "execution_count": null,
   "id": "5bebbf47",
   "metadata": {},
   "outputs": [],
   "source": [
    "# Download ImageNet labels\n",
    "!wget https://raw.githubusercontent.com/pytorch/hub/master/imagenet_classes.txt"
   ]
  },
  {
   "cell_type": "code",
   "execution_count": null,
   "id": "077a92ed",
   "metadata": {},
   "outputs": [],
   "source": [
    "# Read the categories\n",
    "with open(\"imagenet_classes.txt\", \"r\") as f:\n",
    "    categories = [s.strip() for s in f.readlines()]\n",
    "# Show top categories per image\n",
    "top5_prob, top5_catid = torch.topk(probabilities, 5)\n",
    "for i in range(top5_prob.size(0)):\n",
    "    print(categories[top5_catid[i]], top5_prob[i].item())"
   ]
  },
  {
   "cell_type": "markdown",
   "id": "ba1bf415",
   "metadata": {},
   "source": [
    "### Model Description\n",
    "\n",
    "IBN-Net is a CNN model with domain/appearance invariance.\n",
    "Motivated by style transfer works, IBN-Net carefully unifies instance normalization and batch normalization in a single deep network.\n",
    "It provides a simple way to increase both modeling and generalization capacities without adding model complexity.\n",
    "IBN-Net is especially suitable for cross domain or person/vehicle re-identification tasks.\n",
    "\n",
    "The corresponding accuracies on ImageNet dataset with pretrained models are listed below.\n",
    "\n",
    "| Model name | Top-1 acc   | Top-5 acc   |\n",
    "| --------------- | ----------- | ----------- |\n",
    "| resnet50_ibn_a  | 77.46       | 93.68       |\n",
    "| resnet101_ibn_a | 78.61       | 94.41       |\n",
    "| resnext101_ibn_a | 79.12      | 94.58       |\n",
    "| se_resnet101_ibn_a | 78.75    | 94.49       |\n",
    "\n",
    "The rank1/mAP on two Re-ID benchmarks Market1501 and DukeMTMC-reID are listed below (from [michuanhaohao/reid-strong-baseline](https://github.com/michuanhaohao/reid-strong-baseline)).\n",
    "\n",
    "| Backbone | Market1501 | DukeMTMC-reID |\n",
    "| --- | -- | -- |\n",
    "| ResNet50 | 94.5 (85.9) | 86.4 (76.4) |\n",
    "| ResNet101 | 94.5 (87.1) |  87.6 (77.6) |\n",
    "| SeResNet50 | 94.4 (86.3) | 86.4 (76.5) |\n",
    "| SeResNet101 | 94.6 (87.3) | 87.5 (78.0) |\n",
    "| SeResNeXt50 | 94.9 (87.6) | 88.0 (78.3) |\n",
    "| SeResNeXt101 | 95.0 (88.0) | 88.4 (79.0) |\n",
    "| ResNet50-IBN-a | 95.0 (88.2) | 90.1 (79.1) |\n",
    "\n",
    "### References\n",
    "\n",
    " - [Two at Once: Enhancing Learning and Generalization Capacities via IBN-Net](https://arxiv.org/abs/1807.09441)"
   ]
  }
 ],
 "metadata": {},
 "nbformat": 4,
 "nbformat_minor": 5
}
