{
 "cells": [
  {
   "cell_type": "markdown",
   "id": "e6b176e6",
   "metadata": {},
   "source": [
    "### This notebook is optionally accelerated with a GPU runtime.\n",
    "### If you would like to use this acceleration, please select the menu option \"Runtime\" -> \"Change runtime type\", select \"Hardware Accelerator\" -> \"GPU\" and click \"SAVE\"\n",
    "\n",
    "----------------------------------------------------------------------\n",
    "\n",
    "# Silero Text-To-Speech Models\n",
    "\n",
    "*Author: Silero AI Team*\n",
    "\n",
    "**A set of compact enterprise-grade pre-trained TTS Models for multiple languages**"
   ]
  },
  {
   "cell_type": "code",
   "execution_count": null,
   "id": "a16e390a",
   "metadata": {},
   "outputs": [],
   "source": [
    "%%bash\n",
    "# this assumes that you have a proper version of PyTorch already installed\n",
    "pip install -q torchaudio omegaconf"
   ]
  },
  {
   "cell_type": "code",
   "execution_count": null,
   "id": "64ade52e",
   "metadata": {},
   "outputs": [],
   "source": [
    "import torch\n",
    "\n",
    "language = 'en'\n",
    "speaker = 'lj_16khz'\n",
    "device = torch.device('cpu')\n",
    "model, symbols, sample_rate, example_text, apply_tts = torch.hub.load(repo_or_dir='snakers4/silero-models',\n",
    "                                                                      model='silero_tts',\n",
    "                                                                      language=language,\n",
    "                                                                      speaker=speaker)\n",
    "model = model.to(device)  # gpu or cpu\n",
    "audio = apply_tts(texts=[example_text],\n",
    "                  model=model,\n",
    "                  sample_rate=sample_rate,\n",
    "                  symbols=symbols,\n",
    "                  device=device)"
   ]
  },
  {
   "cell_type": "markdown",
   "id": "fa35862d",
   "metadata": {},
   "source": [
    "### Model Description\n",
    "\n",
    "Silero Text-To-Speech models provide enterprise grade TTS in a compact form-factor for several commonly spoken languages:\n",
    "\n",
    "- One-line usage\n",
    "- Naturally sounding speech\n",
    "- No GPU or training required\n",
    "- Minimalism and lack of dependencies\n",
    "- A library of voices in many languages\n",
    "- Support for `16kHz` and `8kHz` out of the box\n",
    "- High throughput on slow hardware. Decent performance on one CPU thread\n",
    "\n",
    "### Supported Languages and Formats\n",
    "\n",
    "As of this page update, the speakers of the following languages are supported both in 8 kHz and 16 kHz:\n",
    "\n",
    "- Russian (6 speakers)\n",
    "- English (1 speaker)\n",
    "- German (1 speaker)\n",
    "- Spanish (1 speaker)\n",
    "- French (1 speaker)\n",
    "\n",
    "To see the always up-to-date language list, please visit our [repo](https://github.com/snakers4/silero-models) and see the `yml` [file](https://github.com/snakers4/silero-models/blob/master/models.yml) for all available checkpoints.\n",
    "\n",
    "### Additional Examples and Benchmarks\n",
    "\n",
    "For additional examples and other model formats please visit this [link](https://github.com/snakers4/silero-models). For quality and performance benchmarks please see the [wiki](https://github.com/snakers4/silero-models/wiki). These resources will be updated from time to time.\n",
    "\n",
    "### References\n",
    "\n",
    "- [Silero Models](https://github.com/snakers4/silero-models)\n",
    "- [High-Quality Speech-to-Text Made Accessible, Simple and Fast](https://habr.com/ru/post/549482/)"
   ]
  }
 ],
 "metadata": {},
 "nbformat": 4,
 "nbformat_minor": 5
}
