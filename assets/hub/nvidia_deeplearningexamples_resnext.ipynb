{
 "cells": [
  {
   "cell_type": "markdown",
   "id": "a325d891",
   "metadata": {},
   "source": [
    "### This notebook requires a GPU runtime to run.\n",
    "### Please select the menu option \"Runtime\" -> \"Change runtime type\", select \"Hardware Accelerator\" -> \"GPU\" and click \"SAVE\"\n",
    "\n",
    "----------------------------------------------------------------------\n",
    "\n",
    "# ResNeXt101\n",
    "\n",
    "*Author: NVIDIA*\n",
    "\n",
    "**ResNet with bottleneck 3x3 Convolutions substituted by 3x3 Grouped Convolutions, trained with mixed precision using Tensor Cores.**\n",
    "\n",
    "_ | _\n",
    "- | -\n",
    "![alt](https://pytorch.org/assets/images/ResNeXtArch.png) | ![alt](https://pytorch.org/assets/images/classification.jpg)\n",
    "\n",
    "\n",
    "\n",
    "### Model Description\n",
    "\n",
    "The ***ResNeXt101-32x4d*** is a model introduced in the [Aggregated Residual Transformations for Deep Neural Networks](https://arxiv.org/pdf/1611.05431.pdf) paper.\n",
    "\n",
    "It is based on regular ResNet model, substituting 3x3 convolutions inside the bottleneck block for 3x3 grouped convolutions.\n",
    "\n",
    "This model is trained with mixed precision using Tensor Cores on Volta, Turing, and the NVIDIA Ampere GPU architectures. Therefore, researchers can get results 3x faster than training without Tensor Cores, while experiencing the benefits of mixed precision training. This model is tested against each NGC monthly container release to ensure consistent accuracy and performance over time.\n",
    "\n",
    "We use [NHWC data layout](https://pytorch.org/tutorials/intermediate/memory_format_tutorial.html) when training using Mixed Precision.\n",
    "\n",
    "Note that the ResNeXt101-32x4d model can be deployed for inference on the [NVIDIA Triton Inference Server](https://github.com/triton-inference-server/server) using TorchScript, ONNX Runtime or TensorRT as an execution backend. For details check [NGC](https://ngc.nvidia.com/catalog/resources/nvidia:resnext_for_triton_from_pytorch)\n",
    "\n",
    "#### Model architecture\n",
    "\n",
    "![ResNextArch](https://pytorch.org/assets/images/ResNeXtArch.png)\n",
    "\n",
    "_Image source: [Aggregated Residual Transformations for Deep Neural Networks](https://arxiv.org/pdf/1611.05431.pdf)_\n",
    "\n",
    "Image shows difference between ResNet bottleneck block and ResNeXt bottleneck block.\n",
    "\n",
    "ResNeXt101-32x4d model's cardinality equals to 32 and bottleneck width equals to 4.\n",
    "### Example\n",
    "\n",
    "In the example below we will use the pretrained ***ResNeXt101-32x4d*** model to perform inference on images and present the result.\n",
    "\n",
    "To run the example you need some extra python packages installed. These are needed for preprocessing images and visualization."
   ]
  },
  {
   "cell_type": "code",
   "execution_count": null,
   "id": "863224d2",
   "metadata": {},
   "outputs": [],
   "source": [
    "!pip install validators matplotlib"
   ]
  },
  {
   "cell_type": "code",
   "execution_count": null,
   "id": "0bb6d749",
   "metadata": {},
   "outputs": [],
   "source": [
    "import torch\n",
    "from PIL import Image\n",
    "import torchvision.transforms as transforms\n",
    "import numpy as np\n",
    "import json\n",
    "import requests\n",
    "import matplotlib.pyplot as plt\n",
    "import warnings\n",
    "warnings.filterwarnings('ignore')\n",
    "%matplotlib inline\n",
    "\n",
    "device = torch.device(\"cuda\") if torch.cuda.is_available() else torch.device(\"cpu\")\n",
    "print(f'Using {device} for inference')"
   ]
  },
  {
   "cell_type": "markdown",
   "id": "48fa25ab",
   "metadata": {},
   "source": [
    "Load the model pretrained on ImageNet dataset."
   ]
  },
  {
   "cell_type": "code",
   "execution_count": null,
   "id": "404041e3",
   "metadata": {},
   "outputs": [],
   "source": [
    "resneXt = torch.hub.load('NVIDIA/DeepLearningExamples:torchhub', 'nvidia_resneXt')\n",
    "utils = torch.hub.load('NVIDIA/DeepLearningExamples:torchhub', 'nvidia_convnets_processing_utils')\n",
    "\n",
    "resneXt.eval().to(device)"
   ]
  },
  {
   "cell_type": "markdown",
   "id": "007cedd0",
   "metadata": {},
   "source": [
    "Prepare sample input data."
   ]
  },
  {
   "cell_type": "code",
   "execution_count": null,
   "id": "bfbbd7a1",
   "metadata": {},
   "outputs": [],
   "source": [
    "uris = [\n",
    "    'http://images.cocodataset.org/test-stuff2017/000000024309.jpg',\n",
    "    'http://images.cocodataset.org/test-stuff2017/000000028117.jpg',\n",
    "    'http://images.cocodataset.org/test-stuff2017/000000006149.jpg',\n",
    "    'http://images.cocodataset.org/test-stuff2017/000000004954.jpg',\n",
    "]\n",
    "\n",
    "\n",
    "batch = torch.cat(\n",
    "    [utils.prepare_input_from_uri(uri) for uri in uris]\n",
    ").to(device)"
   ]
  },
  {
   "cell_type": "markdown",
   "id": "98ac8f88",
   "metadata": {},
   "source": [
    "Run inference. Use `pick_n_best(predictions=output, n=topN)` helper function to pick N most probably hypothesis according to the model."
   ]
  },
  {
   "cell_type": "code",
   "execution_count": null,
   "id": "c677e229",
   "metadata": {},
   "outputs": [],
   "source": [
    "with torch.no_grad():\n",
    "    output = torch.nn.functional.softmax(resneXt(batch), dim=1)\n",
    "    \n",
    "results = utils.pick_n_best(predictions=output, n=5)"
   ]
  },
  {
   "cell_type": "markdown",
   "id": "3b786a72",
   "metadata": {},
   "source": [
    "Display the result."
   ]
  },
  {
   "cell_type": "code",
   "execution_count": null,
   "id": "bc89ee48",
   "metadata": {},
   "outputs": [],
   "source": [
    "for uri, result in zip(uris, results):\n",
    "    img = Image.open(requests.get(uri, stream=True).raw)\n",
    "    img.thumbnail((256,256), Image.ANTIALIAS)\n",
    "    plt.imshow(img)\n",
    "    plt.show()\n",
    "    print(result)\n"
   ]
  },
  {
   "cell_type": "markdown",
   "id": "cc3c0538",
   "metadata": {},
   "source": [
    "### Details\n",
    "For detailed information on model input and output, training recipies, inference and performance visit:\n",
    "[github](https://github.com/NVIDIA/DeepLearningExamples/tree/master/PyTorch/Classification/ConvNets/resnext101-32x4d)\n",
    "and/or [NGC](https://ngc.nvidia.com/catalog/resources/nvidia:resnext_for_pytorch)\n",
    "\n",
    "\n",
    "### References\n",
    "\n",
    " - [Aggregated Residual Transformations for Deep Neural Networks](https://arxiv.org/pdf/1611.05431.pdf)\n",
    " - [model on github](https://github.com/NVIDIA/DeepLearningExamples/tree/master/PyTorch/Classification/ConvNets/resnext101-32x4d)\n",
    " - [model on NGC](https://ngc.nvidia.com/catalog/resources/nvidia:resnext_for_pytorch)\n",
    " - [pretrained model on NGC](https://ngc.nvidia.com/catalog/models/nvidia:resnext101_32x4d_pyt_amp)"
   ]
  }
 ],
 "metadata": {},
 "nbformat": 4,
 "nbformat_minor": 5
}
