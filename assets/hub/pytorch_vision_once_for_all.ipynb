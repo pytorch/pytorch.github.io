{
 "cells": [
  {
   "cell_type": "markdown",
   "id": "0f14dffa",
   "metadata": {},
   "source": [
    "### This notebook is optionally accelerated with a GPU runtime.\n",
    "### If you would like to use this acceleration, please select the menu option \"Runtime\" -> \"Change runtime type\", select \"Hardware Accelerator\" -> \"GPU\" and click \"SAVE\"\n",
    "\n",
    "----------------------------------------------------------------------\n",
    "\n",
    "# Once-for-All\n",
    "\n",
    "*Author: MIT Han Lab*\n",
    "\n",
    "**Once-for-all (OFA) decouples training and search, and achieves efficient inference across various edge devices and resource constraints.**\n",
    "\n",
    "<img src=\"https://pytorch.org/assets/images/once_for_all_overview.png\" alt=\"alt\" width=\"50%\"/>\n",
    "\n",
    "\n",
    "\n",
    "\n",
    "### Get supernet\n",
    "\n",
    "You can quickly load a supernet as following"
   ]
  },
  {
   "cell_type": "code",
   "execution_count": null,
   "id": "d5b50fb4",
   "metadata": {},
   "outputs": [],
   "source": [
    "import torch\n",
    "super_net_name = \"ofa_supernet_mbv3_w10\" \n",
    "# other options: \n",
    "#    ofa_supernet_resnet50 / \n",
    "#    ofa_supernet_mbv3_w12 / \n",
    "#    ofa_supernet_proxyless\n",
    "\n",
    "super_net = torch.hub.load('mit-han-lab/once-for-all', super_net_name, pretrained=True).eval()"
   ]
  },
  {
   "cell_type": "markdown",
   "id": "195ec604",
   "metadata": {},
   "source": [
    "| OFA Network         | Design Space | Resolution | Width Multiplier |  Depth |  Expand Ratio |  kernel Size | \n",
    "|----------------------|----------|----------|---------|------------|---------|------------|\n",
    "| ofa_resnet50 | ResNet50D | 128 - 224 | 0.65, 0.8, 1.0 | 0, 1, 2 | 0.2, 0.25, 0.35 | 3 |\n",
    "| ofa_mbv3_d234_e346_k357_w1.0 | MobileNetV3 | 128 - 224 | 1.0 | 2, 3, 4 | 3, 4, 6 | 3, 5, 7 |\n",
    "| ofa_mbv3_d234_e346_k357_w1.2 | MobileNetV3 | 160 - 224 | 1.2 | 2, 3, 4 | 3, 4, 6 | 3, 5, 7 |\n",
    "| ofa_proxyless_d234_e346_k357_w1.3 | ProxylessNAS | 128 - 224 | 1.3 | 2, 3, 4 | 3, 4, 6 | 3, 5, 7 |\n",
    "\n",
    "\n",
    "Below are the usage of sampling / selecting a subnet from the supernet"
   ]
  },
  {
   "cell_type": "code",
   "execution_count": null,
   "id": "f262a73c",
   "metadata": {},
   "outputs": [],
   "source": [
    "# Randomly sample sub-networks from OFA network\n",
    "super_net.sample_active_subnet()\n",
    "random_subnet = super_net.get_active_subnet(preserve_weight=True)\n",
    "    \n",
    "# Manually set the sub-network\n",
    "super_net.set_active_subnet(ks=7, e=6, d=4)\n",
    "manual_subnet = super_net.get_active_subnet(preserve_weight=True)"
   ]
  },
  {
   "cell_type": "markdown",
   "id": "d4eb520d",
   "metadata": {},
   "source": [
    "### Get Specialized Architecture"
   ]
  },
  {
   "cell_type": "code",
   "execution_count": null,
   "id": "be793bc8",
   "metadata": {},
   "outputs": [],
   "source": [
    "import torch\n",
    "\n",
    "# or load a architecture specialized for certain platform\n",
    "net_config = \"resnet50D_MAC_4_1B\"\n",
    "\n",
    "specialized_net, image_size = torch.hub.load('mit-han-lab/once-for-all', net_config, pretrained=True)\n",
    "specialized_net.eval()"
   ]
  },
  {
   "cell_type": "markdown",
   "id": "d76b27fb",
   "metadata": {},
   "source": [
    "More models and configurations can be found in [once-for-all/model-zoo](https://github.com/mit-han-lab/once-for-all#evaluate-1)\n",
    "and obtained through the following scripts"
   ]
  },
  {
   "cell_type": "code",
   "execution_count": null,
   "id": "95abefd3",
   "metadata": {},
   "outputs": [],
   "source": [
    "ofa_specialized_get = torch.hub.load('mit-han-lab/once-for-all', \"ofa_specialized_get\")\n",
    "model, image_size = ofa_specialized_get(\"flops@595M_top1@80.0_finetune@75\", pretrained=True)\n",
    "model.eval()"
   ]
  },
  {
   "cell_type": "markdown",
   "id": "2313d62d",
   "metadata": {},
   "source": [
    "The model's prediction can be evalutaed by"
   ]
  },
  {
   "cell_type": "code",
   "execution_count": null,
   "id": "379a3f8d",
   "metadata": {},
   "outputs": [],
   "source": [
    "# Download an example image from pytorch website\n",
    "import urllib\n",
    "url, filename = (\"https://github.com/pytorch/hub/raw/master/images/dog.jpg\", \"dog.jpg\")\n",
    "try: \n",
    "  urllib.URLopener().retrieve(url, filename)\n",
    "except: \n",
    "  urllib.request.urlretrieve(url, filename)\n",
    "\n",
    "\n",
    "# sample execution (requires torchvision)\n",
    "from PIL import Image\n",
    "from torchvision import transforms\n",
    "input_image = Image.open(filename)\n",
    "preprocess = transforms.Compose([\n",
    "    transforms.Resize(256),\n",
    "    transforms.CenterCrop(224),\n",
    "    transforms.ToTensor(),\n",
    "    transforms.Normalize(mean=[0.485, 0.456, 0.406], std=[0.229, 0.224, 0.225]),\n",
    "])\n",
    "input_tensor = preprocess(input_image)\n",
    "input_batch = input_tensor.unsqueeze(0) # create a mini-batch as expected by the model\n",
    "\n",
    "# move the input and model to GPU for speed if available\n",
    "if torch.cuda.is_available():\n",
    "    input_batch = input_batch.to('cuda')\n",
    "    model.to('cuda')\n",
    "\n",
    "with torch.no_grad():\n",
    "    output = model(input_batch)\n",
    "# Tensor of shape 1000, with confidence scores over ImageNet's 1000 classes\n",
    "print(output[0])\n",
    "# The output has unnormalized scores. To get probabilities, you can run a softmax on it.\n",
    "probabilities = torch.nn.functional.softmax(output[0], dim=0)\n",
    "print(probabilities)\n"
   ]
  },
  {
   "cell_type": "markdown",
   "id": "e3271858",
   "metadata": {},
   "source": [
    "### Model Description\n",
    "Once-for-all models are from [Once for All: Train One Network and Specialize it for Efficient Deployment](https://arxiv.org/abs/1908.09791). Conventional approaches either manually design or use neural architecture search (NAS) to find a specialized neural network and train it from scratch for each case, which is computationally prohibitive (causing CO2 emission as much as 5 cars' lifetime) thus unscalable. In this work, we propose to train a once-for-all (OFA) network that supports diverse architectural settings by decoupling training and search. Across diverse edge devices, OFA consistently outperforms state-of-the-art (SOTA) NAS methods (up to 4.0% ImageNet top1 accuracy improvement over MobileNetV3, or same accuracy but 1.5x faster than MobileNetV3, 2.6x faster than EfficientNet w.r.t measured latency) while reducing many orders of magnitude GPU hours and CO2 emission. In particular, OFA achieves a new SOTA 80.0% ImageNet top-1 accuracy under the mobile setting (<600M MACs).\n",
    "\n",
    "<!-- ![](images/ofa_imagenet_results.png) -->\n",
    "<img src=\"https://github.com/mit-han-lab/once-for-all/raw/master/figures/cnn_imagenet_new.png\"  width=\"100%\"/>\n",
    "\n",
    "\n",
    "### References"
   ]
  },
  {
   "cell_type": "code",
   "execution_count": null,
   "id": "3a90af43",
   "metadata": {},
   "outputs": [],
   "source": [
    "@inproceedings{\n",
    "  cai2020once,\n",
    "  title={Once for All: Train One Network and Specialize it for Efficient Deployment},\n",
    "  author={Han Cai and Chuang Gan and Tianzhe Wang and Zhekai Zhang and Song Han},\n",
    "  booktitle={International Conference on Learning Representations},\n",
    "  year={2020},\n",
    "  url={https://arxiv.org/pdf/1908.09791.pdf}\n",
    "}"
   ]
  }
 ],
 "metadata": {},
 "nbformat": 4,
 "nbformat_minor": 5
}
