{
 "cells": [
  {
   "cell_type": "markdown",
   "id": "72c7654f",
   "metadata": {},
   "source": [
    "### This notebook is optionally accelerated with a GPU runtime.\n",
    "### If you would like to use this acceleration, please select the menu option \"Runtime\" -> \"Change runtime type\", select \"Hardware Accelerator\" -> \"GPU\" and click \"SAVE\"\n",
    "\n",
    "----------------------------------------------------------------------\n",
    "\n",
    "# DCGAN on FashionGen\n",
    "\n",
    "*Author: FAIR HDGAN*\n",
    "\n",
    "**A simple generative image model for 64x64 images**\n",
    "\n",
    "<img src=\"https://pytorch.org/assets/images/dcgan_fashionGen.jpg\" alt=\"alt\" width=\"50%\"/>"
   ]
  },
  {
   "cell_type": "code",
   "execution_count": null,
   "id": "2e354597",
   "metadata": {},
   "outputs": [],
   "source": [
    "import torch\n",
    "use_gpu = True if torch.cuda.is_available() else False\n",
    "\n",
    "model = torch.hub.load('facebookresearch/pytorch_GAN_zoo:hub', 'DCGAN', pretrained=True, useGPU=use_gpu)"
   ]
  },
  {
   "cell_type": "markdown",
   "id": "a4b95e56",
   "metadata": {},
   "source": [
    "The input to the model is a noise vector of shape `(N, 120)` where `N` is the number of images to be generated.\n",
    "It can be constructed using the function `.buildNoiseData`.\n",
    "The model has a `.test` function that takes in the noise vector and generates images."
   ]
  },
  {
   "cell_type": "code",
   "execution_count": null,
   "id": "58ee397a",
   "metadata": {},
   "outputs": [],
   "source": [
    "num_images = 64\n",
    "noise, _ = model.buildNoiseData(num_images)\n",
    "with torch.no_grad():\n",
    "    generated_images = model.test(noise)\n",
    "\n",
    "# let's plot these images using torchvision and matplotlib\n",
    "import matplotlib.pyplot as plt\n",
    "import torchvision\n",
    "plt.imshow(torchvision.utils.make_grid(generated_images).permute(1, 2, 0).cpu().numpy())\n",
    "# plt.show()"
   ]
  },
  {
   "cell_type": "markdown",
   "id": "b8907398",
   "metadata": {},
   "source": [
    "You should see an image similar to the one on the left.\n",
    "\n",
    "If you want to train your own DCGAN and other GANs from scratch, have a look at [PyTorch GAN Zoo](https://github.com/facebookresearch/pytorch_GAN_zoo).\n",
    "\n",
    "### Model Description\n",
    "\n",
    "In computer vision, generative models are networks trained to create images from a given input. In our case, we consider a specific kind of generative networks: GANs (Generative Adversarial Networks) which learn to map a random vector with a realistic image generation.\n",
    "\n",
    "DCGAN is a model designed in 2015 by Radford et. al. in the paper [Unsupervised Representation Learning with Deep Convolutional Generative Adversarial Networks](https://arxiv.org/abs/1511.06434). It is a GAN architecture both very simple and efficient for low resolution image generation (up to 64x64).\n",
    "\n",
    "\n",
    "\n",
    "### Requirements\n",
    "\n",
    "- Currently only supports Python 3\n",
    "\n",
    "### References\n",
    "\n",
    "- [Unsupervised Representation Learning with Deep Convolutional Generative Adversarial Networks](https://arxiv.org/abs/1511.06434)"
   ]
  }
 ],
 "metadata": {},
 "nbformat": 4,
 "nbformat_minor": 5
}
