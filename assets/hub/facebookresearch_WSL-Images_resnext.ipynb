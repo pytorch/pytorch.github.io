{
 "cells": [
  {
   "cell_type": "markdown",
   "id": "ee73cdc6",
   "metadata": {},
   "source": [
    "### This notebook is optionally accelerated with a GPU runtime.\n",
    "### If you would like to use this acceleration, please select the menu option \"Runtime\" -> \"Change runtime type\", select \"Hardware Accelerator\" -> \"GPU\" and click \"SAVE\"\n",
    "\n",
    "----------------------------------------------------------------------\n",
    "\n",
    "# ResNext WSL\n",
    "\n",
    "*Author: Facebook AI*\n",
    "\n",
    "**ResNext models trained with billion scale weakly-supervised data.**\n",
    "\n",
    "<img src=\"https://pytorch.org/assets/images/wsl-image.png\" alt=\"alt\" width=\"50%\"/>"
   ]
  },
  {
   "cell_type": "code",
   "execution_count": null,
   "id": "477e13c5",
   "metadata": {},
   "outputs": [],
   "source": [
    "import torch\n",
    "model = torch.hub.load('facebookresearch/WSL-Images', 'resnext101_32x8d_wsl')\n",
    "# or\n",
    "# model = torch.hub.load('facebookresearch/WSL-Images', 'resnext101_32x16d_wsl')\n",
    "# or\n",
    "# model = torch.hub.load('facebookresearch/WSL-Images', 'resnext101_32x32d_wsl')\n",
    "# or\n",
    "#model = torch.hub.load('facebookresearch/WSL-Images', 'resnext101_32x48d_wsl')\n",
    "model.eval()"
   ]
  },
  {
   "cell_type": "markdown",
   "id": "7bf96a5f",
   "metadata": {},
   "source": [
    "All pre-trained models expect input images normalized in the same way,\n",
    "i.e. mini-batches of 3-channel RGB images of shape `(3 x H x W)`, where `H` and `W` are expected to be at least `224`.\n",
    "The images have to be loaded in to a range of `[0, 1]` and then normalized using `mean = [0.485, 0.456, 0.406]`\n",
    "and `std = [0.229, 0.224, 0.225]`.\n",
    "\n",
    "Here's a sample execution."
   ]
  },
  {
   "cell_type": "code",
   "execution_count": null,
   "id": "918d1abd",
   "metadata": {},
   "outputs": [],
   "source": [
    "# Download an example image from the pytorch website\n",
    "import urllib\n",
    "url, filename = (\"https://github.com/pytorch/hub/raw/master/images/dog.jpg\", \"dog.jpg\")\n",
    "try: urllib.URLopener().retrieve(url, filename)\n",
    "except: urllib.request.urlretrieve(url, filename)"
   ]
  },
  {
   "cell_type": "code",
   "execution_count": null,
   "id": "b6a221f6",
   "metadata": {},
   "outputs": [],
   "source": [
    "# sample execution (requires torchvision)\n",
    "from PIL import Image\n",
    "from torchvision import transforms\n",
    "input_image = Image.open(filename)\n",
    "preprocess = transforms.Compose([\n",
    "    transforms.Resize(256),\n",
    "    transforms.CenterCrop(224),\n",
    "    transforms.ToTensor(),\n",
    "    transforms.Normalize(mean=[0.485, 0.456, 0.406], std=[0.229, 0.224, 0.225]),\n",
    "])\n",
    "input_tensor = preprocess(input_image)\n",
    "input_batch = input_tensor.unsqueeze(0) # create a mini-batch as expected by the model\n",
    "\n",
    "# move the input and model to GPU for speed if available\n",
    "if torch.cuda.is_available():\n",
    "    input_batch = input_batch.to('cuda')\n",
    "    model.to('cuda')\n",
    "\n",
    "with torch.no_grad():\n",
    "    output = model(input_batch)\n",
    "# Tensor of shape 1000, with confidence scores over ImageNet's 1000 classes\n",
    "print(output[0])\n",
    "# The output has unnormalized scores. To get probabilities, you can run a softmax on it.\n",
    "print(torch.nn.functional.softmax(output[0], dim=0))\n"
   ]
  },
  {
   "cell_type": "markdown",
   "id": "f8b8e36b",
   "metadata": {},
   "source": [
    "### Model Description\n",
    "The provided ResNeXt models are pre-trained in weakly-supervised fashion on **940 million** public images with 1.5K hashtags matching with 1000 ImageNet1K synsets, followed by fine-tuning on ImageNet1K dataset.  Please refer to \"Exploring the Limits of Weakly Supervised Pretraining\" (https://arxiv.org/abs/1805.00932) presented at ECCV 2018 for the details of model training.\n",
    "\n",
    "We are providing 4 models with different capacities.\n",
    "\n",
    "| Model              | #Parameters | FLOPS | Top-1 Acc. | Top-5 Acc. |\n",
    "| ------------------ | :---------: | :---: | :--------: | :--------: |\n",
    "| ResNeXt-101 32x8d  | 88M         | 16B   |    82.2    |  96.4      |\n",
    "| ResNeXt-101 32x16d | 193M        | 36B   |    84.2    |  97.2      |\n",
    "| ResNeXt-101 32x32d | 466M        | 87B   |    85.1    |  97.5      |\n",
    "| ResNeXt-101 32x48d | 829M        | 153B  |    85.4    |  97.6      |\n",
    "\n",
    "Our models significantly improve the training accuracy on ImageNet compared to training from scratch. **We achieve state-of-the-art accuracy of 85.4% on ImageNet with our ResNext-101 32x48d model.**\n",
    "\n",
    "### References\n",
    "\n",
    " - [Exploring the Limits of Weakly Supervised Pretraining](https://arxiv.org/abs/1805.00932)"
   ]
  }
 ],
 "metadata": {},
 "nbformat": 4,
 "nbformat_minor": 5
}
