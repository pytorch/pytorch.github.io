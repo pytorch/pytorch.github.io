{
 "cells": [
  {
   "cell_type": "markdown",
   "id": "0a77ed95",
   "metadata": {},
   "source": [
    "### This notebook requires a GPU runtime to run.\n",
    "### Please select the menu option \"Runtime\" -> \"Change runtime type\", select \"Hardware Accelerator\" -> \"GPU\" and click \"SAVE\"\n",
    "\n",
    "----------------------------------------------------------------------\n",
    "\n",
    "# GPUNet\n",
    "\n",
    "*Author: NVIDIA*\n",
    "\n",
    "**GPUNet is a new family of Convolutional Neural Networks designed to max out the performance of NVIDIA GPU and TensorRT.**\n",
    "\n",
    "<img src=\"https://pytorch.org/assets/images/classification.jpg\" alt=\"alt\" width=\"50%\"/>\n",
    "\n",
    "\n",
    "\n",
    "### Model Description\n",
    "GPUNets are a new family of deployment and production ready Convolutional Neural Networks from NVIDIA auto-designed to max out the performance of NVIDIA GPU and TensorRT. \n",
    "\n",
    "Crafted by NVIDIA AI using novel Neural Architecture Search(NAS) methods, GPUNet demonstrates state-of-the-art inference performance up to 2x faster than EfficientNet-X and FBNet-V3. This notebook allows you to load and test all the the GPUNet model implementation listed in our [CVPR-2022 paper](https://arxiv.org/pdf/2205.00841.pdf). You can use this notebook to quickly load each one of listed models to perform inference runs.\n",
    "\n",
    "### Example\n",
    "In the example below the pretrained ***GPUNet-0*** model is loaded by default to perform inference on image and present the result. You can switch the default pre-trained model loading from GPUNet-0 to one of these: GPUNet-1, GPUNet-2, GPUNet-P0, GPUNet-P1, GPUNet-D1 or GPUNet-D2.\n",
    "### Install pre-requisites\n",
    "To run the example you need some extra python packages installed. These are needed for preprocessing images and visualization."
   ]
  },
  {
   "cell_type": "code",
   "execution_count": null,
   "id": "a1d10ce9",
   "metadata": {},
   "outputs": [],
   "source": [
    "!pip install validators matplotlib\n",
    "!pip install timm==0.5.4"
   ]
  },
  {
   "cell_type": "code",
   "execution_count": null,
   "id": "5f83dfee",
   "metadata": {},
   "outputs": [],
   "source": [
    "import torch\n",
    "from PIL import Image\n",
    "import torchvision.transforms as transforms\n",
    "import numpy as np\n",
    "import json\n",
    "import requests\n",
    "import matplotlib.pyplot as plt\n",
    "import warnings\n",
    "\n",
    "warnings.filterwarnings('ignore')\n",
    "%matplotlib inline\n",
    "\n",
    "\n",
    "if torch.cuda.is_available():\n",
    "    device = torch.device(\"cuda\") \n",
    "    !nvidia-smi\n",
    "else:\n",
    "    device = torch.device(\"cpu\")\n",
    "\n",
    "print(f'Using {device} for inference')"
   ]
  },
  {
   "cell_type": "markdown",
   "id": "5e8df03b",
   "metadata": {},
   "source": [
    "### Load Pretrained model\n",
    "Loads NVIDIA GPUNet-0 model by default pre-trained on ImageNet dataset. You can switch the default pre-trained model loading from GPUNet-0 to one of the following models listed below. \n",
    "\n",
    "The model architecture is visible as output of the loaded model. For details architecture and latency info please refer to [architecture section](https://github.com/NVIDIA/DeepLearningExamples/tree/torchhub/PyTorch/Classification/GPUNet#model-architecture) in the original repo and Table#[3](https://arxiv.org/pdf/2205.00841.pdf) in the CVPR-2022 paper, respectively. \n",
    "\n",
    "Please pick and choose one of the following pre-trained models:\n",
    "\n",
    "| TorchHub model | Description |\n",
    "| :----- | :----- |\n",
    "| `GPUNet-0` | GPUNet-0 has the fastest measured latency on GV100 |\n",
    "| `GPUNet-1` | GPUNet-1 has improved accuracy with one additional layer on GPUNet-0|\n",
    "| `GPUNet-2` | GPUNet-2 has higher accuracy with two additional layers on GPUNet-0 |\n",
    "| `GPUNet-P0` | GPUNet-P0 is the distilled model with higher accuracy than GPUNet-0 but similar latency|\n",
    "| `GPUNet-P1` | GPUNet-P1 is distilled model with even higher accuracy than GPUNet-1 but similar latency |\n",
    "| `GPUNet-D1` | GPUNet-D1 has the second highest accuracy amongst all GPUNets|\n",
    "| `GPUNet-D2` | GPUNet-D2 has the highest accuracy amongst all GPUNets |"
   ]
  },
  {
   "cell_type": "code",
   "execution_count": null,
   "id": "de742f14",
   "metadata": {},
   "outputs": [],
   "source": [
    "model_type = \"GPUNet-0\" # select one from above\n",
    "precision = \"fp32\" # select either fp32 of fp16 (for better performance on GPU)\n",
    "\n",
    "gpunet = torch.hub.load('NVIDIA/DeepLearningExamples:torchhub', 'nvidia_gpunet', pretrained=True, model_type=model_type, model_math=precision)\n",
    "utils = torch.hub.load('NVIDIA/DeepLearningExamples:torchhub', 'nvidia_convnets_processing_utils')\n",
    "\n",
    "gpunet.to(device)\n",
    "gpunet.eval()"
   ]
  },
  {
   "cell_type": "markdown",
   "id": "5f654955",
   "metadata": {},
   "source": [
    "### Prepare inference data\n",
    "Prepare sample input data for inference."
   ]
  },
  {
   "cell_type": "code",
   "execution_count": null,
   "id": "caca48ee",
   "metadata": {},
   "outputs": [],
   "source": [
    "uris = [\n",
    "    'http://images.cocodataset.org/test-stuff2017/000000024309.jpg',\n",
    "    'http://images.cocodataset.org/test-stuff2017/000000028117.jpg',\n",
    "    'http://images.cocodataset.org/test-stuff2017/000000006149.jpg',\n",
    "    'http://images.cocodataset.org/test-stuff2017/000000004954.jpg',\n",
    "]\n",
    "\n",
    "batch = torch.cat(\n",
    "    [utils.prepare_input_from_uri(uri) for uri in uris]\n",
    ").to(device)\n",
    "\n",
    "if precision == \"fp16\":\n",
    "    batch = batch.half()\n",
    "    \n",
    "print(\"Ready to run inference...\")"
   ]
  },
  {
   "cell_type": "markdown",
   "id": "4776425b",
   "metadata": {},
   "source": [
    "### Run inference\n",
    "Use `pick_n_best(predictions=output, n=topN)` helper function to pick N most probable hypotheses according to the model."
   ]
  },
  {
   "cell_type": "code",
   "execution_count": null,
   "id": "e2c7f044",
   "metadata": {},
   "outputs": [],
   "source": [
    "with torch.no_grad():\n",
    "    output = torch.nn.functional.softmax(gpunet(batch), dim=1)\n",
    "    \n",
    "results = utils.pick_n_best(predictions=output, n=5)"
   ]
  },
  {
   "cell_type": "markdown",
   "id": "c08c53f5",
   "metadata": {},
   "source": [
    "### Display result"
   ]
  },
  {
   "cell_type": "code",
   "execution_count": null,
   "id": "f0a38b34",
   "metadata": {},
   "outputs": [],
   "source": [
    "for uri, result in zip(uris, results):\n",
    "    img = Image.open(requests.get(uri, stream=True).raw)\n",
    "    img.thumbnail((256,256), Image.ANTIALIAS)\n",
    "    plt.imshow(img)\n",
    "    plt.show()\n",
    "    print(result)"
   ]
  },
  {
   "cell_type": "markdown",
   "id": "184e1bbb",
   "metadata": {},
   "source": [
    "### Details\n",
    "For detailed information on model input and output, training recipies, inference and performance visit:\n",
    "[github](https://github.com/NVIDIA/DeepLearningExamples/tree/master/PyTorch/Classification/GPUNet)\n",
    "\n",
    "### References\n",
    "\n",
    " - [GPUNets: Searching Deployable Convolution Neural Networks for GPUs](https://arxiv.org/pdf/2205.00841.pdf)\n",
    " - [model on github](https://github.com/NVIDIA/DeepLearningExamples/tree/master/PyTorch/Classification/GPUNet)\n",
    " - [pretrained model on NGC (GPUNet-0)](https://catalog.ngc.nvidia.com/orgs/nvidia/teams/dle/models/gpunet_0_pyt_ckpt)\n",
    " - [pretrained model on NGC (GPUNet-1)](https://catalog.ngc.nvidia.com/orgs/nvidia/teams/dle/models/gpunet_1_pyt_ckpt)\n",
    " - [pretrained model on NGC (GPUNet-2)](https://catalog.ngc.nvidia.com/orgs/nvidia/teams/dle/models/gpunet_2_pyt_ckpt)\n",
    " - [pretrained distilled model on NGC (GPUNet-P0)](https://catalog.ngc.nvidia.com/orgs/nvidia/teams/dle/models/gpunet_p0_pyt_ckpt)\n",
    " - [pretrained, distilled model on NGC (GPUNet-P1)](https://catalog.ngc.nvidia.com/orgs/nvidia/teams/dle/models/gpunet_p1_pyt_ckpt)\n",
    " - [pretrained, distilled model on NGC (GPUNet-D1)](https://catalog.ngc.nvidia.com/orgs/nvidia/teams/dle/models/gpunet_d1_pyt_ckpt)\n",
    " - [pretrained, distilled model on NGC (GPUNet-D2)](https://catalog.ngc.nvidia.com/orgs/nvidia/teams/dle/models/gpunet_d2_pyt_ckpt)"
   ]
  }
 ],
 "metadata": {},
 "nbformat": 4,
 "nbformat_minor": 5
}
